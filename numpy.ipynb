{
 "cells": [
  {
   "cell_type": "code",
   "execution_count": 8,
   "metadata": {},
   "outputs": [
    {
     "name": "stdout",
     "output_type": "stream",
     "text": [
      "(1, [1, 2, 3], {1: 'a', 2: 'b', 'a': 1})\n",
      "(1, [1, 2, 3, 4], {1: 'a', 2: 'b', 'a': 1})\n",
      "1's value is a\n",
      "2's value is b\n",
      "a's value is 1\n"
     ]
    }
   ],
   "source": [
    "#用逗号是tuple的创建\n",
    "tuple=1,2,3\n",
    "tuple_plus=1,[1,2,3],{1:\"a\",2:\"b\",\"a\":1}\n",
    "print(tuple_plus)\n",
    "\n",
    "#什么能修改什么不能修改\n",
    "#tuple_plus[0]=2#错误的\n",
    "tuple_plus[1].append(4)\n",
    "print(tuple_plus)\n",
    "\n",
    "#字典不能这样遍历，因为字典不能解包，列表，元组和字符串能解包\n",
    "#for key,value in tuple_plus[2]:\n",
    " #   print(\"{0}'s value is {1}\".format(key,value))\n",
    "\n",
    "\n",
    "for key,value in zip(tuple_plus[2].keys(),tuple_plus[2].values()):\n",
    "    print(\"{0}'s value is {1}\".format(key,value))\n",
    "\n"
   ]
  },
  {
   "cell_type": "code",
   "execution_count": 12,
   "metadata": {},
   "outputs": [
    {
     "name": "stdout",
     "output_type": "stream",
     "text": [
      "[1, [1, 2, 3], {1: 'a', 2: 'b', 'a': 1}]\n",
      "[1, [1, 2, 3], {1: 'a', 2: 'b', 'a': 1}, {3: 'cc'}]\n",
      "[1, [1, 2, 3], {1: 'a', 2: 'b', 'a': 1}, {3: 'cc'}, 1]\n",
      "[[1, 2, 3], {1: 'a', 2: 'b', 'a': 1}, {3: 'cc'}, 1]\n",
      "[2, 3, 4]\n",
      "[4, 5, 6]\n",
      "[3, 5]\n"
     ]
    }
   ],
   "source": [
    "#用list创建列表\n",
    "tuple_plus=1,[1,2,3],{1:\"a\",2:\"b\",\"a\":1}\n",
    "list_plus=list(tuple_plus)\n",
    "print(list_plus)\n",
    "\n",
    "#append增加元素，remove删除特定元素的第一次出现位置\n",
    "list_plus.append({3:\"cc\"})\n",
    "print(list_plus)\n",
    "list_plus.append(1)\n",
    "print(list_plus)\n",
    "list_plus.remove(1)\n",
    "print(list_plus)\n",
    "\n",
    "#切片操作和理解\n",
    "list_number=[1,2,3,4,5,6,7]\n",
    "list_slice=list_number[1:4]\n",
    "print(list_slice)\n",
    "list_slice1=list_number[-4:-1]\n",
    "print(list_slice1)\n",
    "list_slice2=list_number[-5:-1:2]\n",
    "print(list_slice2)\n",
    "\n"
   ]
  },
  {
   "cell_type": "code",
   "execution_count": 15,
   "metadata": {},
   "outputs": [
    {
     "name": "stdout",
     "output_type": "stream",
     "text": [
      "{'foo': 0, 'bar': 1, 'dick': 2}\n",
      "{'foo': 0, 'bar': 1, 'dick': 2, 1: 'a', 2: 'b', 3: 'c'}\n",
      "[1, 2, 3, 4, 6, 7, 8, 9]\n",
      "<list_reverseiterator object at 0x000001320B8728B0>\n"
     ]
    }
   ],
   "source": [
    "#enumerate函数使用\n",
    "mapping={}\n",
    "list_enumerate=[\"foo\",'bar','dick']\n",
    "for i,v in enumerate(list_enumerate):\n",
    "    mapping[v]=i\n",
    "print(mapping)\n",
    "\n",
    "#zip函数的用法\n",
    "list1=[1,2,3,4,5]\n",
    "list2=[\"a\",\"b\",\"c\"]\n",
    "for var1,var2 in zip(list1,list2):\n",
    "    mapping[var1]=var2\n",
    "print(mapping)\n",
    "\n",
    "#sorted和reversed函数的用法\n",
    "list=[1,2,3,4,6,9,7,8]\n",
    "list_sorted=sorted(list)\n",
    "list_reversed=reversed(list)\n",
    "print(list_sorted)\n",
    "print(list_reversed)"
   ]
  },
  {
   "cell_type": "code",
   "execution_count": 20,
   "metadata": {},
   "outputs": [
    {
     "name": "stdout",
     "output_type": "stream",
     "text": [
      "{'a': 1, 2: 3, 'b': 4}\n",
      "{'a': 1, 2: 3, 'b': 4, 'c': 5}\n",
      "{'a': 1, 2: 3, 'c': 5}\n",
      "defaultdict(<function generate_list at 0x000001320B8A8280>, {'a': ['apple', 'atom'], 'b': ['bat', 'bar'], 'e': ['egg']})\n"
     ]
    }
   ],
   "source": [
    "#字典的创建\n",
    "dict={'a':1,2:3,\"b\":4}\n",
    "print(dict)\n",
    "\n",
    "#字典的增删\n",
    "dict['c']=5\n",
    "print(dict)\n",
    "del dict[\"b\"]\n",
    "print(dict)\n",
    "\n",
    "#字典默认值的创建\n",
    "from collections import defaultdict\n",
    "\n",
    "words=[\"apple\",\"bat\",\"egg\",\"atom\",\"bar\"]\n",
    "#创建有默认值的字典by_letter\n",
    "#defaultdict只接受工厂函数或者没有参数的函数\n",
    "def generate_list():\n",
    "    list=[]\n",
    "    return list\n",
    "\n",
    "by_letter=defaultdict(generate_list)\n",
    "for word in words:\n",
    "    by_letter[word[0]].append(word)\n",
    "print(by_letter)\n",
    "\n",
    "\n"
   ]
  },
  {
   "cell_type": "code",
   "execution_count": 27,
   "metadata": {},
   "outputs": [
    {
     "name": "stdout",
     "output_type": "stream",
     "text": [
      "{1, 3}\n",
      "{1, 2, 3, 4, 5, 7, 9}\n",
      "[6, 7, 7, 9]\n",
      "[6, 7, 7]\n",
      "[7, 7, 8]\n"
     ]
    }
   ],
   "source": [
    "#集合的创建的两种方式\n",
    "my_set={1,2,3,4}\n",
    "my_list=[1,3,5,7,9]\n",
    "my_set1=set(my_list)\n",
    "\n",
    "#集合的运算\n",
    "my_set2=my_set.intersection(my_set1)\n",
    "print(my_set2)\n",
    "my_set3=my_set.union(my_set1)\n",
    "print(my_set3)\n",
    "\n",
    "#集合表达式\n",
    "words=[\"winter\",\"winter~\",\"winter!\",\"winter a \"]\n",
    "len_list=[len(x) for x in words]\n",
    "print(len_list)\n",
    "len_list_without_blank=[len(x) for x in words if \" \" not in x]\n",
    "print(len_list_without_blank)\n",
    "#表达式＋strip的应用\n",
    "len_list_postprocess=[len(x.strip(\" \")) for x in words if len(x) > 6]\n",
    "print(len_list_postprocess)\n",
    "\n",
    "\n",
    "\n"
   ]
  },
  {
   "cell_type": "code",
   "execution_count": 28,
   "metadata": {},
   "outputs": [
    {
     "name": "stdout",
     "output_type": "stream",
     "text": [
      "[<function <listcomp>.<lambda> at 0x000001320B885790>, <function <listcomp>.<lambda> at 0x000001320B885430>, <function <listcomp>.<lambda> at 0x000001320B885A60>]\n"
     ]
    }
   ],
   "source": [
    "#lambda表达式\n",
    "words=[\"huai\",\"winter\",\"winter~\"]\n",
    "my_list_len=[lambda x : len(x) for x in words]\n",
    "print(my_list_len)"
   ]
  },
  {
   "cell_type": "code",
   "execution_count": 34,
   "metadata": {},
   "outputs": [
    {
     "data": {
      "image/png": "[encoded data removed]",
      "text/plain": [
       "<Figure size 500x300 with 1 Axes>"
      ]
     },
     "metadata": {},
     "output_type": "display_data"
    },
    {
     "data": {
      "text/plain": [
       "<Figure size 640x480 with 0 Axes>"
      ]
     },
     "metadata": {},
     "output_type": "display_data"
    }
   ],
   "source": [
    "import numpy as np\n",
    "import matplotlib.pyplot as plt\n",
    "\n",
    "fig=plt.figure(figsize=(5,3))\n",
    "ax=fig.add_subplot(1,1,1)\n",
    "x=np.linspace(0,10,30)\n",
    "ax.plot(x,np.sin(x),\"g^--\",label=\"sinx\")\n",
    "ax.scatter(x,np.cos(x),s=5,c=\"k\",label=\"one\")\n",
    "ax.legend(loc='best')\n",
    "ax.set_xticks(np.arange(0,10.1,2))\n",
    "ax.set_xlabel(\"x:0-10\")\n",
    "ax.set_title(\"test\")\n",
    "ax.set_ylabel(\"y:sinx\")\n",
    "\n",
    "plt.show()\n",
    "plt.savefig(\"first.jpg\",bbox_inches='tight')"
   ]
  },
  {
   "cell_type": "code",
   "execution_count": 2,
   "metadata": {},
   "outputs": [
    {
     "name": "stdout",
     "output_type": "stream",
     "text": [
      "[[7. 8. 9.]\n",
      " [4. 5. 6.]\n",
      " [1. 2. 3.]]\n",
      "[[3. 2. 1.]\n",
      " [6. 5. 4.]\n",
      " [9. 8. 7.]]\n",
      "[[ 1.  2.  3.]\n",
      " [ 4. -1.  6.]\n",
      " [ 7.  8. -1.]]\n",
      "[2.         3.         4.66666667]\n",
      "(2, 2)\n",
      "[[ 1.  2.  4. -1.]]\n",
      "[ 1.  2.  4. -1.]\n",
      "[1 2 3 1 2 3]\n",
      "[1 1 2 2 3 3]\n",
      "[[0.2870344  0.92167287]\n",
      " [0.07044639 0.98181777]]\n",
      "[[-0.21883724  0.09638128  0.85751257]\n",
      " [ 0.61435398 -0.38842477 -0.73302633]\n",
      " [-1.04943369 -0.19435389 -0.13687155]]\n",
      "[[0.47932974 0.04620878]\n",
      " [0.81877132 0.13997288]]\n",
      "[[0.37454012 0.95071431]\n",
      " [0.73199394 0.59865848]]\n",
      "[[0.15601864 0.15599452]\n",
      " [0.05808361 0.86617615]]\n",
      "[[False False]\n",
      " [False False]]\n",
      "[1 2 3 4 5 7 8]\n",
      "[3 2 4 2 3 1 2]\n"
     ]
    }
   ],
   "source": [
    "import numpy as np\n",
    "#array和List的区别\n",
    "#1.array支持向量方式的计算方法\n",
    "#2.array不支持数组的扩展\n",
    "#3.array中的数据类型必须都一致\n",
    "#4.array中的数据占用的空间更小\n",
    "\n",
    "list1=[[1,2,3],[4,5,6],[7,8,9]]\n",
    "array_list1=np.array(list1)\n",
    "#print(array_list1)\n",
    "array_list1.astype(float)\n",
    "#print(array_list1)\n",
    "list_array1=array_list1.tolist()\n",
    "#print(list_array1)\n",
    "\n",
    "#1,获取维度用ndim\n",
    "#2.获取形状用shape\n",
    "#3.获取全部的变量数用size\n",
    "list1=[[1,0,1],[0,1,0],[1,0,1]]\n",
    "array_list1=np.array(list1)\n",
    "#print(array_list1)\n",
    "#print(array_list1.ndim)\n",
    "#print(array_list1.shape)\n",
    "#print(array_list1.size)\n",
    "\n",
    "#1.索引可以直接根据切片类似获取\n",
    "#2.可以先根据大于小于之类的判断获取布尔的索引，然后根据布尔索引获取所有符合条件的值\n",
    "array_list1_slice=array_list1[:2,:2]\n",
    "#print(array_list1_slice)\n",
    "\n",
    "index_b=array_list1>0\n",
    "array_list1_slice_boolean=array_list1[index_b]\n",
    "#print(array_list1_slice_boolean)\n",
    "\n",
    "#1.获取一个数组的反转数组\n",
    "#2.缺失值和异常值处理的初步（用上面布尔类型索引方式）\n",
    "#3.求解最大最小值和平均值，注意axis的方向\n",
    "list2=[[1,2,3],[4,5,6],[7,8,9]]\n",
    "array_list2=np.array(list2,dtype=float)\n",
    "array_list2_reverse=array_list2[::-1,]\n",
    "print(array_list2_reverse)\n",
    "array_list2_reverse1=array_list2[ ::,::-1]#列的前面必须有一个值\n",
    "print(array_list2_reverse1)\n",
    "\n",
    "array_list2[1,1]=np.nan\n",
    "array_list2[2,2]=np.inf\n",
    "index_of_nan_and_inf=np.isnan(array_list2) | np.isinf(array_list2)\n",
    "array_list2[index_of_nan_and_inf]=-1#这里不能计算平均值，因为有np.nan\n",
    "print(array_list2)\n",
    "\n",
    "#试着用apply_along_axis函数\n",
    "def my_func(a):\n",
    "    sum=0\n",
    "    for obj in a:\n",
    "        sum=sum+float(obj)\n",
    "    return sum/len(a)\n",
    "\n",
    "array_list2_res=np.apply_along_axis(my_func,1,array_list2)\n",
    "print(array_list2_res)\n",
    "\n",
    "#1.创建一个副本.copy,如果只是单纯在原数组修改会破坏原数组\n",
    "#2.改变形状用reshape\n",
    "#3.采用flatten可以把array拉平成一维的，并且是复制不改变原数组\n",
    "array_list3=array_list2[:2,:2].copy()\n",
    "\n",
    "print(array_list3.shape)\n",
    "array_list3_reshape=array_list3.reshape(1,4)\n",
    "print(array_list3_reshape)\n",
    "\n",
    "array_list3_flatten=array_list3.flatten()\n",
    "print(array_list3_flatten)\n",
    "\n",
    "#1.造数组用arange可以建数组，起始点终止点和步长\n",
    "#2.造数组用linspace可以建数组，起始点终止点和含有的数据的数量\n",
    "#3.造数组全为1或全为0的数组用zeros,ones\n",
    "array_list4=np.arange(1,10,2)\n",
    "#print(array_list4)\n",
    "array_list5=np.linspace(1,10,2)\n",
    "#print(array_list5)\n",
    "array_list6=np.zeros([2,2,2])\n",
    "#print(array_list6)\n",
    "\n",
    "#1.如何重复一个数组,注意tile和repeat有什么区别\n",
    "#2.随机数产生的三个方法,rand,randn,random\n",
    "#3.利用RandomState来建立能生成稳定随机数的程序，跟随机数种子作用一样\n",
    "#4.如何获取unique以及获取包含的数量\n",
    "array_test1=np.array([1,2,3])\n",
    "print(np.tile(array_test1,2))\n",
    "print(np.repeat(array_test1,2))\n",
    "\n",
    "random_num1=np.random.rand(2,2)\n",
    "random_num2=np.random.randn(3,3)\n",
    "random_num3=np.random.random([2,2])\n",
    "print(random_num1)\n",
    "print(random_num2)\n",
    "print(random_num3)\n",
    "\n",
    "#制造的RandomState可以等同于np.random\n",
    "rn=np.random.RandomState(42)\n",
    "random_num4=rn.rand(2,2)\n",
    "random_num5=rn.rand(2,2)\n",
    "print(random_num4)\n",
    "print(random_num5)\n",
    "print(random_num4==random_num5)\n",
    "\n",
    "array_test2=np.array([8,7,8,5,4,5,4,5,3,3,3,3,2,2,1,1,1])\n",
    "uniques,counts=np.unique(array_test2,return_counts=True)\n",
    "print(uniques)\n",
    "print(counts)\n"
   ]
  },
  {
   "cell_type": "code",
   "execution_count": 34,
   "metadata": {},
   "outputs": [
    {
     "name": "stdout",
     "output_type": "stream",
     "text": [
      "(array([0, 1, 2, 3, 6, 7], dtype=int64),)\n",
      "[[7 8 8 8 5 6]]\n",
      "1\n",
      "[[ 1  2  3  7  8  9]\n",
      " [ 4  5  6 10 11 12]]\n",
      "[[ 1  2  3]\n",
      " [ 4  5  6]\n",
      " [ 7  8  9]\n",
      " [10 11 12]]\n",
      "[[ 1  2  3  7  8  9]\n",
      " [ 4  5  6 10 11 12]]\n",
      "[[ 1  2  3]\n",
      " [ 4  5  6]\n",
      " [ 7  8  9]\n",
      " [10 11 12]]\n",
      "[[ 1  2  3  7  8  9]\n",
      " [ 4  5  6 10 11 12]]\n",
      "[[1 3 7 8]\n",
      " [2 3 3 5]]\n",
      "[1 0]\n",
      "[[2 3 3 5]\n",
      " [1 7 3 8]]\n",
      "[1 0]\n",
      "[[2 3 3 5]\n",
      " [1 7 3 8]]\n",
      "[[1 7 3 8]\n",
      " [2 3 3 5]]\n"
     ]
    }
   ],
   "source": [
    "## Numpy2\n",
    "\n",
    "#1.index只能获取一整个数组索引，只有true和false,但是where能获得索引的值，并且where也可以增加判断的值\n",
    "#2.可用take获取具体的值\n",
    "#3.可用argmax获取最大值的索引\n",
    "array_list1=np.array([7,8,8,8,4,3,5,6,1,2])\n",
    "index=np.where(array_list1>4)\n",
    "print(index)\n",
    "\n",
    "array_list2=array_list1.take(index)\n",
    "print(array_list2)\n",
    "\n",
    "print(np.argmax(array_list1))\n",
    "\n",
    "#1.采用concatenate进行拼接，但要指定坐标轴axis=0或1\n",
    "#2.采用vstack或者hstack\n",
    "#3.用r_或c_\n",
    "array_a=np.array([[1,2,3],[4,5,6]])\n",
    "array_b=np.array([[7,8,9],[10,11,12]])\n",
    "array_concatenate=np.concatenate([array_a,array_b],axis=1)\n",
    "print(array_concatenate)\n",
    "\n",
    "array_vstack=np.vstack([array_a,array_b])\n",
    "print(array_vstack)\n",
    "array_hstack=np.hstack([array_a,array_b])\n",
    "print(array_hstack)\n",
    "\n",
    "array_r_=np.r_[array_a,array_b]\n",
    "print(array_r_)\n",
    "array_c_=np.c_[array_a,array_b]\n",
    "print(array_c_)\n",
    "\n",
    "#1.直接排序使用np.sort(排序ndarray，axis)\n",
    "#2.获取排序好的数值在原数组索引中的位置\n",
    "#3.使用多列排序用lexsort\n",
    "array_test3=np.array([[1,7,3,8],[2,3,3,5]])\n",
    "array_sort=np.sort(array_test3,axis=1)\n",
    "print(array_sort)\n",
    "\n",
    "#argsort一般只处理一维的变量\n",
    "#要是对某一数据排序的话显得没必要了，因为可以单独抽取出一列数据再单独修改然后加回原数组中\n",
    "sort_index=np.argsort(array_test3[:,1])\n",
    "print(sort_index)\n",
    "sort_array=array_test3[sort_index]\n",
    "print(sort_array)\n",
    "\n",
    "\n",
    "#lexsort右侧的排序优先\n",
    "lexsort_index_1=np.lexsort((array_test3[:,0],array_test3[:,1]))\n",
    "print(lexsort_index_1)\n",
    "print(array_test3[lexsort_index_1])\n",
    "lexsort_index_2=np.lexsort((array_test3[:,1],array_test3[:,0]))\n",
    "print(array_test3[lexsort_index_2])\n",
    "\n",
    "#1.采用datatime64建立一个时间序列对象\n",
    "#2.采用deltatime64增加时间\n",
    "#3.用is_busday判断是不是工作日\n",
    "#4.用tolist转化为另一种对象，这个对象可以直接查询.year之类的信息\n",
    "\n",
    "\n",
    "\n",
    "\n",
    "\n",
    "\n"
   ]
  }
 ],
 "metadata": {
  "kernelspec": {
   "display_name": "textToSql",
   "language": "python",
   "name": "texttosql"
  },
  "language_info": {
   "codemirror_mode": {
    "name": "ipython",
    "version": 3
   },
   "file_extension": ".py",
   "mimetype": "text/x-python",
   "name": "python",
   "nbconvert_exporter": "python",
   "pygments_lexer": "ipython3",
   "version": "3.8.19"
  },
  "orig_nbformat": 4
 },
 "nbformat": 4,
 "nbformat_minor": 2
}
