{
 "cells": [
  {
   "cell_type": "markdown",
   "metadata": {},
   "source": [
    "# Ex1 - Filtering and Sorting Data"
   ]
  },
  {
   "cell_type": "markdown",
   "metadata": {},
   "source": [
    "This time we are going to pull data directly from the internet.\n",
    "Special thanks to: https://github.com/justmarkham for sharing the dataset and materials.\n",
    "\n",
    "### Step 1. Import the necessary libraries"
   ]
  },
  {
   "cell_type": "code",
   "execution_count": null,
   "metadata": {
    "collapsed": false
   },
   "outputs": [],
   "source": [
    "import pandas as pd"
   ]
  },
  {
   "cell_type": "markdown",
   "metadata": {},
   "source": [
    "### Step 2. Import the dataset from this [address](https://raw.githubusercontent.com/justmarkham/DAT8/master/data/chipotle.tsv). "
   ]
  },
  {
   "cell_type": "markdown",
   "metadata": {},
   "source": [
    "### Step 3. Assign it to a variable called chipo."
   ]
  },
  {
   "cell_type": "code",
   "execution_count": null,
   "metadata": {
    "collapsed": false
   },
   "outputs": [],
   "source": [
    "url = 'https://raw.githubusercontent.com/justmarkham/DAT8/master/data/chipotle.tsv'\n",
    "#1.直接读取网页数据\n",
    "chipo=pd.read_csv(url,sep=\"\\t\")\n",
    "chipo\n"
   ]
  },
  {
   "cell_type": "markdown",
   "metadata": {},
   "source": [
    "### Step 4. How many products cost more than $10.00?"
   ]
  },
  {
   "cell_type": "code",
   "execution_count": null,
   "metadata": {
    "collapsed": false
   },
   "outputs": [],
   "source": [
    "#第一步：先把一定的数据处理成特定的形式\n",
    "deal_price=lambda x:float(str(x).replace(\"$\",\"\"))\n",
    "chipo[\"item_price\"]=chipo[\"item_price\"].apply(deal_price)\n",
    "\n",
    "#第二步：去除掉重复值\n",
    "chipo_filter=chipo.drop_duplicates([\"quantity\",\"item_name\",\"choice_description\"],inplace=False)\n",
    "\n",
    "#第三步：开始判断\n",
    "chipo_buy_one=chipo[chipo[\"quantity\"]==1]\n",
    "#chipo_buy_one\n",
    "chipo_res=chipo_buy_one[chipo_buy_one[\"item_price\"]>10.0]\n",
    "print(chipo_res)\n",
    "chipo_res[\"item_name\"].nunique()\n",
    "\n"
   ]
  },
  {
   "cell_type": "markdown",
   "metadata": {},
   "source": [
    "### Step 5. What is the price of each item? \n",
    "###### print a data frame with only two columns item_name and item_price"
   ]
  },
  {
   "cell_type": "code",
   "execution_count": null,
   "metadata": {
    "collapsed": false
   },
   "outputs": [],
   "source": [
    "chipo_filter1=chipo.drop_duplicates([\"item_name\",\"quantity\"],inplace=False)\n",
    "chipo_buy_one=chipo_filter1[chipo_filter1[\"quantity\"]==1]\n",
    "chipo_res=chipo_buy_one[[\"item_name\",\"item_price\"]]\n",
    "chipo_res\n"
   ]
  },
  {
   "cell_type": "markdown",
   "metadata": {},
   "source": [
    "### Step 6. Sort by the name of the item"
   ]
  },
  {
   "cell_type": "code",
   "execution_count": null,
   "metadata": {
    "collapsed": false
   },
   "outputs": [],
   "source": [
    "chipo_res=chipo.sort_values([\"item_name\"],ascending=True)\n",
    "chipo_res"
   ]
  },
  {
   "cell_type": "markdown",
   "metadata": {},
   "source": [
    "### Step 7. What was the quantity of the most expensive item ordered?"
   ]
  },
  {
   "cell_type": "code",
   "execution_count": null,
   "metadata": {
    "collapsed": false
   },
   "outputs": [],
   "source": [
    "chipo_most_expensive=chipo.sort_values([\"item_price\"],ascending=False)\n",
    "chipo_most_expensive.head(1)"
   ]
  },
  {
   "cell_type": "markdown",
   "metadata": {},
   "source": [
    "### Step 8. How many times was a Veggie Salad Bowl ordered?"
   ]
  },
  {
   "cell_type": "code",
   "execution_count": null,
   "metadata": {
    "collapsed": false
   },
   "outputs": [],
   "source": [
    "chipo_only_Veggie_Salad_Bowl=chipo[chipo[\"item_name\"]==\"Veggie Salad Bowl\"]\n",
    "chipo_only_Veggie_Salad_Bowl.drop_duplicates([\"order_id\"],inplace=True)\n",
    "chipo_only_Veggie_Salad_Bowl.nunique()"
   ]
  },
  {
   "cell_type": "markdown",
   "metadata": {},
   "source": [
    "### Step 9. How many times did someone order more than one Canned Soda?"
   ]
  },
  {
   "cell_type": "code",
   "execution_count": null,
   "metadata": {
    "collapsed": false
   },
   "outputs": [],
   "source": [
    "chipo_Canned_Soda=chipo[chipo[\"item_name\"]==\"Canned Soda\"]\n",
    "chipo_Canned_Soda_filter=chipo_Canned_Soda[chipo_Canned_Soda[\"quantity\"]>1]\n",
    "#个人认为此处要再去重一个order_id列，不去重与答案便相等\n",
    "print(chipo_Canned_Soda_filter)\n",
    "chipo_Canned_Soda_filter_res=chipo_Canned_Soda_filter.drop_duplicates([\"order_id\"],inplace=False)\n",
    "chipo_Canned_Soda_filter_res.nunique()"
   ]
  }
 ],
 "metadata": {
  "kernelspec": {
   "display_name": "textToSql",
   "language": "python",
   "name": "texttosql"
  },
  "language_info": {
   "codemirror_mode": {
    "name": "ipython",
    "version": 3
   },
   "file_extension": ".py",
   "mimetype": "text/x-python",
   "name": "python",
   "nbconvert_exporter": "python",
   "pygments_lexer": "ipython3",
   "version": "3.8.19"
  },
  "vscode": {
   "interpreter": {
    "hash": "eb58733487753431c450c0eaae16527e85b9a191c3389262b2f342e5c6e2bebe"
   }
  }
 },
 "nbformat": 4,
 "nbformat_minor": 0
}
